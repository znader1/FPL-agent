{
 "cells": [
  {
   "cell_type": "code",
   "execution_count": 1,
   "id": "b1a0e2bb",
   "metadata": {},
   "outputs": [],
   "source": [
    "import requests\n",
    "from bs4 import BeautifulSoup\n",
    "import pandas as pd\n"
   ]
  },
  {
   "cell_type": "code",
   "execution_count": 2,
   "id": "d650fd2d",
   "metadata": {},
   "outputs": [],
   "source": [
    "URL = \"https://fantasy.premierleague.com/news/\"\n",
    "headers = {\"User-Agent\": \"Mozilla/5.0 (compatible; FPL-Agent/1.0)\"}\n",
    "\n",
    "resp = requests.get(URL, headers=headers)\n",
    "resp.raise_for_status()\n",
    "html = resp.text\n",
    "soup = BeautifulSoup(html, \"lxml\")\n"
   ]
  },
  {
   "cell_type": "code",
   "execution_count": 3,
   "id": "2c9236fb",
   "metadata": {},
   "outputs": [
    {
     "name": "stdout",
     "output_type": "stream",
     "text": [
      "https://www.premierleague.com/en/news/1820580/off-the-bench-can-you-ignore-cunha-in-fpl | FPL Podcast\n",
      "https://www.premierleague.com/en/news/4345793/sign-up-now-to-mypremier-league/ | myPremierLeague\n"
     ]
    }
   ],
   "source": [
    "# See what kind of elements contain article links/titles\n",
    "for a in soup.select(\"a[href*='/news/']\")[:10]:\n",
    "    print(a.get(\"href\"), \"|\", a.get_text(strip=True))\n"
   ]
  },
  {
   "cell_type": "code",
   "execution_count": 4,
   "id": "dea30983",
   "metadata": {},
   "outputs": [
    {
     "data": {
      "text/html": [
       "<div>\n",
       "<style scoped>\n",
       "    .dataframe tbody tr th:only-of-type {\n",
       "        vertical-align: middle;\n",
       "    }\n",
       "\n",
       "    .dataframe tbody tr th {\n",
       "        vertical-align: top;\n",
       "    }\n",
       "\n",
       "    .dataframe thead th {\n",
       "        text-align: right;\n",
       "    }\n",
       "</style>\n",
       "<table border=\"1\" class=\"dataframe\">\n",
       "  <thead>\n",
       "    <tr style=\"text-align: right;\">\n",
       "      <th></th>\n",
       "      <th>url</th>\n",
       "      <th>title</th>\n",
       "    </tr>\n",
       "  </thead>\n",
       "  <tbody>\n",
       "    <tr>\n",
       "      <th>0</th>\n",
       "      <td>https://www.premierleague.com/en/news/1820580/...</td>\n",
       "      <td>FPL Podcast</td>\n",
       "    </tr>\n",
       "    <tr>\n",
       "      <th>1</th>\n",
       "      <td>https://www.premierleague.com/en/news/4345793/...</td>\n",
       "      <td>myPremierLeague</td>\n",
       "    </tr>\n",
       "  </tbody>\n",
       "</table>\n",
       "</div>"
      ],
      "text/plain": [
       "                                                 url            title\n",
       "0  https://www.premierleague.com/en/news/1820580/...      FPL Podcast\n",
       "1  https://www.premierleague.com/en/news/4345793/...  myPremierLeague"
      ]
     },
     "execution_count": 4,
     "metadata": {},
     "output_type": "execute_result"
    }
   ],
   "source": [
    "articles = []\n",
    "seen = set()\n",
    "\n",
    "for a in soup.select(\"a[href*='/news/']\"):\n",
    "    href = a.get(\"href\", \"\")\n",
    "    if not href or href in seen or \"/news/\" not in href:\n",
    "        continue\n",
    "    seen.add(href)\n",
    "    title = a.get_text(\" \", strip=True)\n",
    "    if title:\n",
    "        articles.append({\n",
    "            \"url\": href if href.startswith(\"http\") else f\"https://fantasy.premierleague.com{href}\",\n",
    "            \"title\": title\n",
    "        })\n",
    "\n",
    "df_articles = pd.DataFrame(articles).drop_duplicates(\"url\")\n",
    "df_articles.head(10)\n"
   ]
  },
  {
   "cell_type": "code",
   "execution_count": 6,
   "id": "2f92717f",
   "metadata": {},
   "outputs": [
    {
     "data": {
      "text/html": [
       "<div>\n",
       "<style scoped>\n",
       "    .dataframe tbody tr th:only-of-type {\n",
       "        vertical-align: middle;\n",
       "    }\n",
       "\n",
       "    .dataframe tbody tr th {\n",
       "        vertical-align: top;\n",
       "    }\n",
       "\n",
       "    .dataframe thead th {\n",
       "        text-align: right;\n",
       "    }\n",
       "</style>\n",
       "<table border=\"1\" class=\"dataframe\">\n",
       "  <thead>\n",
       "    <tr style=\"text-align: right;\">\n",
       "      <th></th>\n",
       "      <th>url</th>\n",
       "      <th>title</th>\n",
       "    </tr>\n",
       "  </thead>\n",
       "  <tbody>\n",
       "    <tr>\n",
       "      <th>0</th>\n",
       "      <td>https://www.premierleague.com/en/news/1820580/...</td>\n",
       "      <td>FPL Podcast</td>\n",
       "    </tr>\n",
       "    <tr>\n",
       "      <th>1</th>\n",
       "      <td>https://www.premierleague.com/en/news/4345793/...</td>\n",
       "      <td>myPremierLeague</td>\n",
       "    </tr>\n",
       "  </tbody>\n",
       "</table>\n",
       "</div>"
      ],
      "text/plain": [
       "                                                 url            title\n",
       "0  https://www.premierleague.com/en/news/1820580/...      FPL Podcast\n",
       "1  https://www.premierleague.com/en/news/4345793/...  myPremierLeague"
      ]
     },
     "execution_count": 6,
     "metadata": {},
     "output_type": "execute_result"
    }
   ],
   "source": [
    "df_articles"
   ]
  },
  {
   "cell_type": "code",
   "execution_count": 8,
   "id": "2ba4899f",
   "metadata": {},
   "outputs": [
    {
     "name": "stdout",
     "output_type": "stream",
     "text": [
      "Testing: https://www.premierleague.com/en/news/1820580/off-the-bench-can-you-ignore-cunha-in-fpl\n",
      "FPL experts Gianni Buttice and Prasun Singhal reflect on the key talking points from Gameweek 9\n",
      "After a third successive win, is it now time to invest in Manchester United players inFantasy Premier League?\n",
      "FPL experts Gianni Buttice and Prasun Singhal discuss the form of a number of their players such asBryan Mbeumo(£8.1m), who scored twice last weekend, andBruno Fernandes(£8.9m).\n",
      "They also discuss if it is time to bring in AFC Bournemouth'sJunior Kroupi(£4.6m) following his third goal in the last two Gameweeks.\n",
      "Running order:- Liverpool dilemma (02m 40s)- Magical Mateta (13m 58s)- Selling Gyokeres for Arsenal defence (18m 14s)- Man Utd options (24m 16s)- Cooling on Man City (31m 54s)- Keen on Kroupi (38m 08s)\n",
      "\n",
      "\n"
     ]
    }
   ],
   "source": [
    "first_url = df_articles.iloc[0][\"url\"]\n",
    "print(\"Testing:\", first_url)\n",
    "\n",
    "r = requests.get(first_url, headers=headers)\n",
    "r.raise_for_status()\n",
    "soup_article = BeautifulSoup(r.text, \"lxml\")\n",
    "\n",
    "# Try common article text containers\n",
    "paras = soup_article.find_all(\"p\")\n",
    "text = \"\\n\".join(p.get_text(strip=True) for p in paras)\n",
    "print(text[:1000])  # print first 1000 characters\n"
   ]
  },
  {
   "cell_type": "code",
   "execution_count": 9,
   "id": "bf1307bc",
   "metadata": {},
   "outputs": [
    {
     "data": {
      "text/html": [
       "<div>\n",
       "<style scoped>\n",
       "    .dataframe tbody tr th:only-of-type {\n",
       "        vertical-align: middle;\n",
       "    }\n",
       "\n",
       "    .dataframe tbody tr th {\n",
       "        vertical-align: top;\n",
       "    }\n",
       "\n",
       "    .dataframe thead th {\n",
       "        text-align: right;\n",
       "    }\n",
       "</style>\n",
       "<table border=\"1\" class=\"dataframe\">\n",
       "  <thead>\n",
       "    <tr style=\"text-align: right;\">\n",
       "      <th></th>\n",
       "      <th>title</th>\n",
       "      <th>url</th>\n",
       "      <th>text_excerpt</th>\n",
       "    </tr>\n",
       "  </thead>\n",
       "  <tbody>\n",
       "    <tr>\n",
       "      <th>0</th>\n",
       "      <td>FPL Podcast</td>\n",
       "      <td>https://www.premierleague.com/en/news/1820580/...</td>\n",
       "      <td>FPL experts Gianni Buttice and Prasun Singhal ...</td>\n",
       "    </tr>\n",
       "    <tr>\n",
       "      <th>1</th>\n",
       "      <td>myPremierLeague</td>\n",
       "      <td>https://www.premierleague.com/en/news/4345793/...</td>\n",
       "      <td>Join now for free to set your preferences and ...</td>\n",
       "    </tr>\n",
       "  </tbody>\n",
       "</table>\n",
       "</div>"
      ],
      "text/plain": [
       "             title                                                url  \\\n",
       "0      FPL Podcast  https://www.premierleague.com/en/news/1820580/...   \n",
       "1  myPremierLeague  https://www.premierleague.com/en/news/4345793/...   \n",
       "\n",
       "                                        text_excerpt  \n",
       "0  FPL experts Gianni Buttice and Prasun Singhal ...  \n",
       "1  Join now for free to set your preferences and ...  "
      ]
     },
     "execution_count": 9,
     "metadata": {},
     "output_type": "execute_result"
    }
   ],
   "source": [
    "records = []\n",
    "for idx, row in df_articles.head(5).iterrows():\n",
    "    url = row[\"url\"]\n",
    "    try:\n",
    "        r = requests.get(url, headers=headers, timeout=15)\n",
    "        r.raise_for_status()\n",
    "        soup = BeautifulSoup(r.text, \"lxml\")\n",
    "        text = \" \".join(p.get_text(strip=True) for p in soup.find_all(\"p\"))\n",
    "        records.append({\n",
    "            \"title\": row[\"title\"],\n",
    "            \"url\": url,\n",
    "            \"text_excerpt\": text[:400]\n",
    "        })\n",
    "    except Exception as e:\n",
    "        print(\"Error:\", e)\n",
    "\n",
    "pd.DataFrame(records)\n"
   ]
  },
  {
   "cell_type": "code",
   "execution_count": 10,
   "id": "5924daf9",
   "metadata": {},
   "outputs": [
    {
     "name": "stdout",
     "output_type": "stream",
     "text": [
      "Saved to data/fpl_latest_articles.csv\n"
     ]
    }
   ],
   "source": [
    "df_articles.to_csv(\"../data/fpl_latest_articles.csv\", index=False)\n",
    "print(\"Saved to data/fpl_latest_articles.csv\")\n"
   ]
  }
 ],
 "metadata": {
  "kernelspec": {
   "display_name": ".venv",
   "language": "python",
   "name": "python3"
  },
  "language_info": {
   "codemirror_mode": {
    "name": "ipython",
    "version": 3
   },
   "file_extension": ".py",
   "mimetype": "text/x-python",
   "name": "python",
   "nbconvert_exporter": "python",
   "pygments_lexer": "ipython3",
   "version": "3.11.1"
  }
 },
 "nbformat": 4,
 "nbformat_minor": 5
}
